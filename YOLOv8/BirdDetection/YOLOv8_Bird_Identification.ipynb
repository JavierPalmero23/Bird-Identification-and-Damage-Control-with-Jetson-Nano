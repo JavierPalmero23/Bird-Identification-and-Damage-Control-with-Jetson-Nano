{
  "cells": [
    {
      "cell_type": "markdown",
      "metadata": {
        "id": "view-in-github",
        "colab_type": "text"
      },
      "source": [
        "<a href=\"https://colab.research.google.com/github/JavierPalmero23/Bird-Identification-and-Damage-Control-with-Jetson-Nano/blob/main/YOLOv8/BirdDetection/YOLOv8_Bird_Identification.ipynb\" target=\"_parent\"><img src=\"https://colab.research.google.com/assets/colab-badge.svg\" alt=\"Open In Colab\"/></a>"
      ]
    },
    {
      "cell_type": "markdown",
      "metadata": {
        "id": "lrTgOCnON2ci"
      },
      "source": [
        "# Bird Identification with YOLOv8 Model"
      ]
    },
    {
      "cell_type": "markdown",
      "metadata": {
        "id": "2tVzuzMBN9zU"
      },
      "source": [
        "\n",
        "## **Path**"
      ]
    },
    {
      "cell_type": "markdown",
      "metadata": {
        "id": "8YasIBprO7U9"
      },
      "source": [
        "### **Local Storage**\n",
        "For Local Storage and Proyect, just make sure to use the complete path from root"
      ]
    },
    {
      "cell_type": "code",
      "execution_count": null,
      "metadata": {
        "id": "kdxj342-OlDV"
      },
      "outputs": [],
      "source": [
        "\n",
        "path = \".../Bird-Identification-and-Damage-Control-with-Jetson-Nano/YOLOv8/BirdDetection\"\n"
      ]
    },
    {
      "cell_type": "markdown",
      "metadata": {
        "id": "72mM5t2YPF7l"
      },
      "source": [
        "### **Google Drive**\n",
        "If you want to run another dataset from **Google Drive** you can run:"
      ]
    },
    {
      "cell_type": "code",
      "execution_count": null,
      "metadata": {
        "id": "g7Qi2UdyYmvI"
      },
      "outputs": [],
      "source": [
        "\n",
        "#from google.colab import drive\n",
        "#drive.mount('/content/drive')\n",
        "\n",
        "#path = \"/custom/path/to/datset/and/model/folder\"\n"
      ]
    },
    {
      "cell_type": "markdown",
      "metadata": {
        "id": "VRCOwZALY8uf"
      },
      "source": [
        "\n",
        "\n",
        "---\n",
        "\n",
        "\n",
        "\n",
        "---\n",
        "\n"
      ]
    },
    {
      "cell_type": "markdown",
      "metadata": {
        "id": "3oh_tkfiPgD9"
      },
      "source": [
        "## **Training**"
      ]
    },
    {
      "cell_type": "markdown",
      "metadata": {
        "id": "iMPZH9RhP8jM"
      },
      "source": [
        "### **Repos**"
      ]
    },
    {
      "cell_type": "code",
      "execution_count": null,
      "metadata": {
        "id": "ORgHSRC4Ypt1"
      },
      "outputs": [],
      "source": [
        "\n",
        "!pip install ultralytics                                    # if you have problems, check your python verion and the ultralytics instalation\n",
        "import ultralytics\n",
        "ultralytics.checks()\n",
        "\n",
        "import os\n",
        "import sys\n",
        "\n",
        "os.environ[\"PYTHONPATH\"]=path\n",
        "\n",
        "from ultralytics import YOLO\n"
      ]
    },
    {
      "cell_type": "markdown",
      "metadata": {
        "id": "y8wYR6XAQI0D"
      },
      "source": [
        "### **Model**\n",
        "Select the optimal model for you"
      ]
    },
    {
      "cell_type": "code",
      "execution_count": null,
      "metadata": {
        "id": "KRZsoeORYsSI"
      },
      "outputs": [],
      "source": [
        "\n",
        "# model = YOLO('yolov8n.pt')                                    # New Model From Scratch\n",
        "# model = YOLO('/content/runs/detect/train/weights/best.pt')    # Load the Best Weight from a Previous Training\n",
        "model = YOLO(path+'/birdmodel.pt')                              # Load a Pre-Trained Model\n"
      ]
    },
    {
      "cell_type": "markdown",
      "metadata": {
        "id": "CTJ9vwV2R5bW"
      },
      "source": [
        "### **Train**\n",
        "Once you selected your model, its time to Run some Training"
      ]
    },
    {
      "cell_type": "code",
      "execution_count": null,
      "metadata": {
        "id": "fYz0xfSkRKta"
      },
      "outputs": [],
      "source": [
        "\n",
        "results = model.train(data=path+\"/data.yaml\", epochs=200, pretrained=True, iou=0.5, visualize=True, patience=0)   # Train the Model\n",
        "results = model.val()                                                                                             # Model Performance Evaluation on the Validation Set\n"
      ]
    },
    {
      "cell_type": "markdown",
      "metadata": {
        "id": "O1YR2YNEWMPP"
      },
      "source": [
        "For a longer Training just change the **epoch** value to something higher"
      ]
    },
    {
      "cell_type": "markdown",
      "metadata": {
        "id": "2xZmkDVwTXhW"
      },
      "source": [
        "### **Save** the Model\n",
        "Once the Training is done its important to save the model, so you can use it again."
      ]
    },
    {
      "cell_type": "code",
      "execution_count": null,
      "metadata": {
        "id": "xyyG0VW8Rt_N"
      },
      "outputs": [],
      "source": [
        "\n",
        "model.save(path+\"/birdmodel.pt\")                                # Save the Final Model\n"
      ]
    },
    {
      "cell_type": "markdown",
      "metadata": {
        "id": "-3KSM4NwYuP-"
      },
      "source": [
        "\n",
        "\n",
        "---\n",
        "\n",
        "---\n",
        "\n"
      ]
    },
    {
      "cell_type": "markdown",
      "metadata": {
        "id": "cM3uhTZqQw-6"
      },
      "source": [
        "## **Test**"
      ]
    },
    {
      "cell_type": "markdown",
      "metadata": {
        "id": "86t7yx_GSdWm"
      },
      "source": [
        "### **Pictures**\n",
        "The easyest and fastest way to test the Model is with Pictures, so lets get all ready for it"
      ]
    },
    {
      "cell_type": "markdown",
      "metadata": {
        "id": "lffaQZgGTiir"
      },
      "source": [
        "First, import some UTF libraries to avoid problems with the yolo predict command problems"
      ]
    },
    {
      "cell_type": "code",
      "execution_count": null,
      "metadata": {
        "id": "OfsjpalHTtm-"
      },
      "outputs": [],
      "source": [
        "\n",
        "import locale\n",
        "locale.getpreferredencoding = lambda: \"UTF-8\"\n",
        "!pip install aspose-words\n"
      ]
    },
    {
      "cell_type": "markdown",
      "metadata": {
        "id": "MzhdFybgUMEL"
      },
      "source": [
        "Now you can Run the Tests.\n",
        "\n",
        "Just make sure to write the model path. Since the yolo predict is running from the terminal, it will need the full path"
      ]
    },
    {
      "cell_type": "code",
      "execution_count": null,
      "metadata": {
        "id": "gAPLpTk3hrnz"
      },
      "outputs": [],
      "source": [
        "\n",
        "!yolo predict model=\"/.../Bird-Identification-and-Damage-Control-with-Jetson-Nano/YOLOv8/BirdDetection/birdmodel.pt\" source='https://www.womansworld.com/wp-content/uploads/2018/09/birds-and-people-2.jpg'\n",
        "!yolo predict model=\"/.../Bird-Identification-and-Damage-Control-with-Jetson-Nano/YOLOv8/BirdDetection/birdmodel.pt\" source='https://www.womansworld.com/wp-content/uploads/2018/09/people-and-birds.jpg'\n",
        "!yolo predict model=\"/.../Bird-Identification-and-Damage-Control-with-Jetson-Nano/YOLOv8/BirdDetection/birdmodel.pt\" source='https://ultralytics.com/images/zidane.jpg'\n",
        "!yolo predict model=\"/.../Bird-Identification-and-Damage-Control-with-Jetson-Nano/YOLOv8/BirdDetection/birdmodel.pt\" source='https://www.gannett-cdn.com/-mm-/bfca09459d01d9f6efcd53899b98c0f3f6a2e0eb/c=0-138-1817-1160/local/-/media/2018/04/25/USATODAY/usatsports/636601879148177130-canada-goos-attack.jpg'\n",
        "!yolo predict model=\"/.../Bird-Identification-and-Damage-Control-with-Jetson-Nano/YOLOv8/BirdDetection/birdmodel.pt\" source='https://i.pinimg.com/originals/c3/a2/2f/c3a22f11617e512f880d2125c79dfd70.jpg'\n",
        "!yolo predict model=\"/.../Bird-Identification-and-Damage-Control-with-Jetson-Nano/YOLOv8/BirdDetection/birdmodel.pt\" source='https://www.mundiario.com/media/mundiario/images/2019/04/03/2019040315042423986.png'\n",
        "!yolo predict model=\"/.../Bird-Identification-and-Damage-Control-with-Jetson-Nano/YOLOv8/BirdDetection/birdmodel.pt\" source='https://i0.wp.com/www.birdsontheedge.org/wp-content/uploads/2016/12/Photo-by-Romano-da-Costa-1.jpg'\n",
        "!yolo predict model=\"/.../Bird-Identification-and-Damage-Control-with-Jetson-Nano/YOLOv8/BirdDetection/birdmodel.pt\" source='https://aviancontrolinc.com/wp-content/uploads/2016/09/crow-901602_1280.jpg'\n"
      ]
    },
    {
      "cell_type": "markdown",
      "metadata": {
        "id": "wD6gdIKCUWcU"
      },
      "source": [
        "In this case some web pictures are being used, but you can use some local stored ones.\n",
        "\n",
        "Just replace the address in the source argument"
      ]
    },
    {
      "cell_type": "markdown",
      "metadata": {
        "id": "knzKizlCSr2k"
      },
      "source": [
        "### **Camera**"
      ]
    },
    {
      "cell_type": "code",
      "execution_count": null,
      "metadata": {
        "colab": {
          "background_save": true
        },
        "id": "0WDdyJtYggw8"
      },
      "outputs": [],
      "source": [
        "\n",
        "!pip install supervision\n",
        "\n",
        "import cv2\n",
        "import argparse\n",
        "from ultralytics import YOLO\n",
        "import supervision as sv\n",
        "\n",
        "def parse_arguments()  ->argparse.Namespace:\n",
        "    parser =argparse.ArgumentParser(description='yolov8 live')\n",
        "    parser.add_argument(\"--webcam-resolution\", default=[1280,720], nargs=2, type=int)\n",
        "    args=parser.parse_args()\n",
        "    return args\n",
        "\n",
        "def main():\n",
        "    args=parse_arguments()\n",
        "    frame_width,frame_height=args.webcam_resolution\n",
        "    cap=cv2.VideoCapture(0)\n",
        "    cap.set(cv2.CAP_PROP_FRAME_WIDTH,frame_width)\n",
        "    cap.set(cv2.CAP_PROP_FRAME_HEIGHT,frame_width)\n",
        "                                                  # in this point you can change the model.\n",
        "                                                  #     ex: model=YOLO(\"yolov8n.pt\")\n",
        "    box_annotator=sv.BoxAnnotator(\n",
        "        thickness=2,\n",
        "        text_thickness=2,\n",
        "        text_scale=1\n",
        "    )\n",
        "    while True:\n",
        "        ret,frame=cap.read()\n",
        "        result=model(frame)[0]\n",
        "        detections = sv.Detections.from_yolov8(result)\n",
        "        labels = [\n",
        "            f\"{model.model.names[class_id]} {confidence:0.2f}\"\n",
        "            for _, confidence,class_id, _\n",
        "            in detections\n",
        "        ]\n",
        "        frame = box_annotator.annotate(scene=frame, detections=detections, labels=labels)\n",
        "        cv2.imshow(\"YOLOv8\",frame)\n",
        "        print(frame.shape)\n",
        "        if (cv2.waitKey(30)==27):\n",
        "            break\n",
        "\n",
        "if __name__==\"__main__\":\n",
        "    main()\n"
      ]
    }
  ],
  "metadata": {
    "accelerator": "GPU",
    "colab": {
      "toc_visible": true,
      "provenance": [],
      "authorship_tag": "ABX9TyP1IEXqKSNc0hD4MygnD+Wx",
      "include_colab_link": true
    },
    "kernelspec": {
      "display_name": "Python 3",
      "name": "python3"
    },
    "language_info": {
      "name": "python"
    }
  },
  "nbformat": 4,
  "nbformat_minor": 0
}
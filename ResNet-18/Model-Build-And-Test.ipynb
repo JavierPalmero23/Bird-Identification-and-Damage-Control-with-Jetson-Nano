{
  "nbformat": 4,
  "nbformat_minor": 0,
  "metadata": {
    "colab": {
      "provenance": [],
      "authorship_tag": "ABX9TyN385Ac1d1i38Trc1tZaisD",
      "include_colab_link": true
    },
    "kernelspec": {
      "name": "python3",
      "display_name": "Python 3"
    },
    "language_info": {
      "name": "python"
    }
  },
  "cells": [
    {
      "cell_type": "markdown",
      "metadata": {
        "id": "view-in-github",
        "colab_type": "text"
      },
      "source": [
        "<a href=\"https://colab.research.google.com/github/JavierPalmero23/Bird-Identification-and-Damage-Control-with-Jetson-Nano/blob/main/PyTorch/Model-Build-And-Test.ipynb\" target=\"_parent\"><img src=\"https://colab.research.google.com/assets/colab-badge.svg\" alt=\"Open In Colab\"/></a>"
      ]
    },
    {
      "cell_type": "markdown",
      "source": [
        "# Library and System"
      ],
      "metadata": {
        "id": "oWLAH3ShKtaO"
      }
    },
    {
      "cell_type": "markdown",
      "source": [
        "It is necessary to import the appropriate libraries and prepare everything.\n",
        "\n",
        "For that, we'll update the Python Libraries."
      ],
      "metadata": {
        "id": "mZMcEyc1IevG"
      }
    },
    {
      "cell_type": "code",
      "source": [
        "!pip install --upgrade torch torchvision"
      ],
      "metadata": {
        "id": "IkN7hkF6tLhZ"
      },
      "execution_count": null,
      "outputs": []
    },
    {
      "cell_type": "markdown",
      "source": [
        "It is always recommended to clear the cache to avoid filling the storage and loading corrupted data\n"
      ],
      "metadata": {
        "id": "wJuFonX7KFU3"
      }
    },
    {
      "cell_type": "code",
      "source": [
        "!rm -rf ~/.cache/*"
      ],
      "metadata": {
        "id": "tE7VYIPDuMf9"
      },
      "execution_count": 14,
      "outputs": []
    },
    {
      "cell_type": "code",
      "source": [
        "import os\n",
        "\n",
        "import numpy as np\n",
        "from tqdm import tqdm\n",
        "from time import time\n",
        "from PIL import Image\n",
        "\n",
        "import torch\n",
        "from torch.optim import Adam\n",
        "from torch.nn import CrossEntropyLoss, Conv2d, AvgPool2d, BatchNorm2d, Dropout2d, LeakyReLU, Linear, Module\n",
        "from torch.utils.data import DataLoader\n",
        "\n",
        "import torchvision\n",
        "from torchvision.datasets import ImageFolder\n",
        "from torchvision.models import resnet18\n",
        "from torchvision.transforms import transforms\n",
        "\n",
        "# Checks if GPU us available with cuda drivers\n",
        "device=torch.device(\"cuda\" if torch.cuda.is_available() else \"cpu\")\n"
      ],
      "metadata": {
        "id": "ge_Fdojon3y5"
      },
      "execution_count": 4,
      "outputs": []
    },
    {
      "cell_type": "markdown",
      "source": [
        "# Storage Load"
      ],
      "metadata": {
        "id": "sT-Bn-EaN0YB"
      }
    },
    {
      "cell_type": "markdown",
      "source": [
        "For **LOCAL** Storage"
      ],
      "metadata": {
        "id": "63rbm3jCl3tQ"
      }
    },
    {
      "cell_type": "code",
      "source": [
        "!pip install gitpython\n",
        "\n",
        "import git\n",
        "\n",
        "git.Git(\"/content\").clone(\"https://github.com/JavierPalmero23/Bird-Identification-and-Damage-Control-with-Jetson-Nano.git\")\n",
        "\n",
        "path = \"/content/Bird-Identification-and-Damage-Control-with-Jetson-Nano/PyTorch/Birds\"\n"
      ],
      "metadata": {
        "id": "Vv7eIpV0Y-Io"
      },
      "execution_count": null,
      "outputs": []
    },
    {
      "cell_type": "markdown",
      "source": [
        "In case you're using **GOOGLE DRIVE** use the next line.\n"
      ],
      "metadata": {
        "id": "u9lRvCiRl8PG"
      }
    },
    {
      "cell_type": "code",
      "source": [
        "from google.colab import drive\n",
        "drive.mount('/content/drive')\n",
        "\n",
        "path = \"/content/drive/MyDrive/Colab DataSets/BIRD/\""
      ],
      "metadata": {
        "id": "SMHWlRQMlxvx"
      },
      "execution_count": null,
      "outputs": []
    },
    {
      "cell_type": "markdown",
      "source": [
        "The Data Transformer allows us to keep a standard format for the pictures"
      ],
      "metadata": {
        "id": "Op2auJ6iMWb_"
      }
    },
    {
      "cell_type": "code",
      "source": [
        "# Data Transformer\n",
        "tfm=transforms.Compose([\n",
        "    transforms.Resize((128,128)),\n",
        "    transforms.RandomHorizontalFlip(),\n",
        "    transforms.RandomRotation(degrees=10),\n",
        "    transforms.ToTensor(),\n",
        "    transforms.Normalize([0.5, 0.5, 0.5], [0.5, 0.5, 0.5])\n",
        "])\n"
      ],
      "metadata": {
        "id": "LOVvnYSMrqdW"
      },
      "execution_count": 7,
      "outputs": []
    },
    {
      "cell_type": "markdown",
      "source": [
        "Now, we'll define the path to the training and test pictures. Also, define the number of pictures to keep for later processing\n"
      ],
      "metadata": {
        "id": "5ZwCfNZ_NVaj"
      }
    },
    {
      "cell_type": "code",
      "source": [
        "# Create Dataset\n",
        "TRAIN_ROOT = path+'/train'\n",
        "TEST_ROOT = path+'/test'\n",
        "\n",
        "# Length of Train and Test Datasets\n",
        "train_ds = ImageFolder(TRAIN_ROOT, transform=tfm)\n",
        "test_ds = ImageFolder(TEST_ROOT, transform=tfm)\n",
        "\n",
        "# Length of Train and Test Datasets\n",
        "len_train = len(train_ds)\n",
        "len_test = len(test_ds)\n"
      ],
      "metadata": {
        "id": "BQWTrX7qt4cW"
      },
      "execution_count": 11,
      "outputs": []
    },
    {
      "cell_type": "code",
      "source": [
        "# Index Mapping\n",
        "train_ds.class_to_idx\n"
      ],
      "metadata": {
        "id": "jGUk8aaMYhx_"
      },
      "execution_count": null,
      "outputs": []
    },
    {
      "cell_type": "code",
      "source": [
        "# Data Loader\n",
        "train_loader = DataLoader(train_ds, batch_size=30, shuffle=True)\n",
        "test_loader = DataLoader(test_ds, batch_size=30, shuffle=True)\n"
      ],
      "metadata": {
        "id": "W6bUR0BHvaq-"
      },
      "execution_count": 17,
      "outputs": []
    },
    {
      "cell_type": "markdown",
      "source": [
        "# Build the Model"
      ],
      "metadata": {
        "id": "CHPRU9B4vtGT"
      }
    },
    {
      "cell_type": "code",
      "source": [
        "# Build Model\n",
        "class ModBuilder(Module):\n",
        "    def __init__(self):\n",
        "        super(ModBuilder, self).__init__()\n",
        "        self.conv = Conv2d(in_channels=3, out_channels=8, kernel_size=(3,3), stride=1, padding=1)\n",
        "        self.pool = AvgPool2d(kernel_size=(3,3), stride=1)\n",
        "        self.relu = LeakyReLU()\n",
        "        self.bn = BatchNorm2d(num_features=8)\n",
        "        self.drop = Dropout2d(p=0.3)\n",
        "        self.fc = Linear(in_features=8*126*126, out_features=16)\n",
        "\n",
        "    def forward(self, X):\n",
        "        output = self.conv(X)\n",
        "        output = self.pool(output)\n",
        "        output = self.relu(output)\n",
        "        output = self.bn(output)\n",
        "        output = self.drop(output)\n",
        "        print(output.shape)\n",
        "        output = output.view(-1, 8*126*126)\n",
        "        output = self.fc(output)\n",
        "        return output\n"
      ],
      "metadata": {
        "id": "80gpnaEXY4ve"
      },
      "execution_count": 18,
      "outputs": []
    },
    {
      "cell_type": "markdown",
      "source": [
        "In case you want to ***LOAD*** a ***Previous Model***, you can load it with the next line and ***SKIP*** the ***Model Definition***"
      ],
      "metadata": {
        "id": "CANl169COhM9"
      }
    },
    {
      "cell_type": "code",
      "source": [
        "# Model Load\n",
        "model = torch.load(path+'/model.pt')\n",
        "model = model.to(device)\n"
      ],
      "metadata": {
        "id": "PAM87uGf6_92"
      },
      "execution_count": null,
      "outputs": []
    },
    {
      "cell_type": "code",
      "source": [
        "# Model Definition and Migration to GPU\n",
        "model = ModBuilder().to(device)\n"
      ],
      "metadata": {
        "id": "C3A3y7t6ZAE7"
      },
      "execution_count": 14,
      "outputs": []
    },
    {
      "cell_type": "markdown",
      "source": [
        "A few modifications will be good to optimize the model performance"
      ],
      "metadata": {
        "id": "p5EANAmKPT_D"
      }
    },
    {
      "cell_type": "code",
      "source": [
        "# Optimiser\n",
        "optimiser = Adam(model.parameters(), lr=3e-4, weight_decay=0.0001)\n",
        "\n",
        "# Loss Function\n",
        "loss_fn = CrossEntropyLoss()\n"
      ],
      "metadata": {
        "id": "vsBXXZggCA8E"
      },
      "execution_count": 15,
      "outputs": []
    },
    {
      "cell_type": "markdown",
      "source": [
        "# Train the Model"
      ],
      "metadata": {
        "id": "OuerpAxAZFxe"
      }
    },
    {
      "cell_type": "markdown",
      "source": [
        "Keep in mind that the model not always will have the same efficiency with 10 or 15 rounds of training, so feel free to use more rounds\n",
        "\n",
        "> *Keep in mind that the first round or epoch will take more time than the other*\n"
      ],
      "metadata": {
        "id": "JsmIt3jyRk5P"
      }
    },
    {
      "cell_type": "code",
      "source": [
        "for epoch in range(10):\n",
        "    start = time()\n",
        "    train_acc = 0\n",
        "    test_acc = 0\n",
        "\n",
        "# Training\n",
        "    model.train()\n",
        "    with tqdm(train_loader, unit=\"batch\") as tepoch:\n",
        "        for xtrain, ytrain in tepoch:\n",
        "            optimiser.zero_grad()\n",
        "            xtrain = xtrain.to(device)\n",
        "            train_prob = model(xtrain)\n",
        "            train_prob = train_prob.cpu()\n",
        "            train_loss = loss_fn(train_prob, ytrain)\n",
        "            train_loss.backward()\n",
        "            optimiser.step()\n",
        "            # END TRAINING\n",
        "            train_pred = torch.max(train_prob, 1).indices\n",
        "            train_acc += int(torch.sum(train_pred == ytrain))\n",
        "\n",
        "        train_epoch_accuracy = train_acc / len_train\n",
        "\n",
        "# Evaluate\n",
        "    model.eval()\n",
        "    with torch.no_grad():\n",
        "        for xtest, ytest in test_loader:\n",
        "            xtest = xtest.to(device)\n",
        "            test_prob = model(xtest)\n",
        "            test_prob = test_prob.cpu()\n",
        "            test_loss = loss_fn(test_prob, ytest)\n",
        "            test_pred = torch.max(test_prob, 1).indices\n",
        "            test_acc += int(torch.sum(test_pred == ytest))\n",
        "\n",
        "        test_epoch_accuracy = test_acc / len_test\n",
        "\n",
        "    end = time()\n",
        "\n",
        "    diff = end - start\n",
        "\n",
        "    print(f\"Epoch: {epoch+1}, Time: {diff}\\nTr_loss: {train_loss}, Test_loss: {test_loss}\\n,Tr_acc:{train_epoch_accuracy}, Test_acc: {test_epoch_accuracy}\")\n"
      ],
      "metadata": {
        "id": "esHgVxFqZKS5"
      },
      "execution_count": null,
      "outputs": []
    },
    {
      "cell_type": "markdown",
      "source": [
        "# Test the Model"
      ],
      "metadata": {
        "id": "7wDfEKKuQNoo"
      }
    },
    {
      "cell_type": "markdown",
      "source": [
        "For this example we'll be testing the model with a few pictures."
      ],
      "metadata": {
        "id": "p9oEbHpSQZ26"
      }
    },
    {
      "cell_type": "code",
      "source": [
        "# Image Samples\n",
        "sample_1 = path+'/test/woodpecker/ERDE66G1GTCV.jpg'\n",
        "sample_2 = path+'/test/duck/F5A2MH75RPWP.jpg'\n",
        "sample_3 = path+'/test/common_grackle/O91IJQ5JYMCH.jpg'\n",
        "sample_4 = path+'/test/crow/93FKTKYFIME8.jpg'\n",
        "\n",
        "sample_list = [sample_1,sample_2,sample_3,sample_4]\n"
      ],
      "metadata": {
        "id": "_9tmS8EoODIf"
      },
      "execution_count": 14,
      "outputs": []
    },
    {
      "cell_type": "markdown",
      "source": [
        "Now it's time to run the test and check the Model Performance"
      ],
      "metadata": {
        "id": "wvDR86ppQmog"
      }
    },
    {
      "cell_type": "code",
      "source": [
        "# Model Performance\n",
        "for img_path in sample_list:\n",
        "    img = Image.open(img_path)\n",
        "    display(img.resize((100, 100)))\n",
        "    img_tensor = tfm(img)\n",
        "    img_tensor = img_tensor[np.newaxis, :]\n",
        "    img_tensor = img_tensor.to(device)\n",
        "    prob = model(img_tensor)\n",
        "    pred = torch.max(prob, 1).indices\n",
        "    pred = pred.item()\n",
        "    print(f\"Model Prediction: {pred}\")\n",
        "    print(\" ~ ~ ~ ~ ~ ~ ~ ~ ~ ~ ~ ~ ~ ~ ~ ~ ~ ~ ~ ~ ~ ~ ~\")\n"
      ],
      "metadata": {
        "id": "j8lu_LoAPCOj"
      },
      "execution_count": null,
      "outputs": []
    },
    {
      "cell_type": "markdown",
      "source": [
        "In case that the model isn't accurate enough, a retraining will be good"
      ],
      "metadata": {
        "id": "di3jg3q8Qy6K"
      }
    },
    {
      "cell_type": "markdown",
      "source": [
        "# Save the Model"
      ],
      "metadata": {
        "id": "XASzYzRIQUDw"
      }
    },
    {
      "cell_type": "markdown",
      "source": [
        "If the model have a good performance or you want to keep with the training later, you can save it with the next line of code"
      ],
      "metadata": {
        "id": "UQ-wtkcgRORO"
      }
    },
    {
      "cell_type": "code",
      "source": [
        "# Save the Model\n",
        "torch.save(model, path+'/model.pt')\n"
      ],
      "metadata": {
        "id": "5eNRoD4F8yz_"
      },
      "execution_count": 21,
      "outputs": []
    }
  ]
}
